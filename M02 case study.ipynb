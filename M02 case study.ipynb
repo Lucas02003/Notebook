{
 "cells": [
  {
   "cell_type": "code",
   "execution_count": 6,
   "id": "b6864a2a-eae0-40ec-92ac-9da0caef9205",
   "metadata": {},
   "outputs": [
    {
     "name": "stdin",
     "output_type": "stream",
     "text": [
      "Enter student's last name (or 'ZZZ' to quit):  garcia\n",
      "Please enter your GPA:  3.2\n",
      "Enter student's last name (or 'ZZZ' to quit):  watson\n",
      "Please enter your GPA:  3.3\n"
     ]
    },
    {
     "name": "stdout",
     "output_type": "stream",
     "text": [
      "Student has made the Honor Roll\n"
     ]
    },
    {
     "name": "stdin",
     "output_type": "stream",
     "text": [
      "Enter student's last name (or 'ZZZ' to quit):  may\n",
      "Please enter your GPA:  3.5\n"
     ]
    },
    {
     "name": "stdout",
     "output_type": "stream",
     "text": [
      "Student has made the Dean's List\n",
      "Student has made the Honor Roll\n"
     ]
    },
    {
     "name": "stdin",
     "output_type": "stream",
     "text": [
      "Enter student's last name (or 'ZZZ' to quit):  watts\n",
      "Please enter your GPA:  3.4\n"
     ]
    },
    {
     "name": "stdout",
     "output_type": "stream",
     "text": [
      "Student has made the Honor Roll\n"
     ]
    },
    {
     "name": "stdin",
     "output_type": "stream",
     "text": [
      "Enter student's last name (or 'ZZZ' to quit):  reece\n",
      "Please enter your GPA:  3.5\n"
     ]
    },
    {
     "name": "stdout",
     "output_type": "stream",
     "text": [
      "Student has made the Dean's List\n",
      "Student has made the Honor Roll\n"
     ]
    },
    {
     "name": "stdin",
     "output_type": "stream",
     "text": [
      "Enter student's last name (or 'ZZZ' to quit):  ZZZ\n"
     ]
    }
   ],
   "source": [
    "while True:\n",
    "    last_name = input(\"Enter student's last name (or 'ZZZ' to quit): \")\n",
    "    if last_name == 'ZZZ':\n",
    "        break\n",
    "    gpa = float(input(\"Please enter your GPA: \"))\n",
    "    if gpa >= 3.5:\n",
    "        print(\"Student has made the Dean's List\")\n",
    "    if gpa >= 3.25:\n",
    "        print(\"Student has made the Honor Roll\")\n"
   ]
  },
  {
   "cell_type": "code",
   "execution_count": null,
   "id": "2921de85-0e05-454b-82bc-c4d889e0cb28",
   "metadata": {},
   "outputs": [],
   "source": []
  }
 ],
 "metadata": {
  "kernelspec": {
   "display_name": "Python 3 (ipykernel)",
   "language": "python",
   "name": "python3"
  },
  "language_info": {
   "codemirror_mode": {
    "name": "ipython",
    "version": 3
   },
   "file_extension": ".py",
   "mimetype": "text/x-python",
   "name": "python",
   "nbconvert_exporter": "python",
   "pygments_lexer": "ipython3",
   "version": "3.12.4"
  }
 },
 "nbformat": 4,
 "nbformat_minor": 5
}

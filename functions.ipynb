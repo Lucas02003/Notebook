{
 "cells": [
  {
   "cell_type": "code",
   "execution_count": 8,
   "id": "14a9ce50-ca8e-4e59-ab6b-5b25abe8a8df",
   "metadata": {},
   "outputs": [
    {
     "name": "stdout",
     "output_type": "stream",
     "text": [
      "['Harry', 'Ron', 'Hermione']\n"
     ]
    }
   ],
   "source": [
    "def good():\n",
    "    return ['Harry', 'Ron', 'Hermione']\n",
    "\n",
    "print(good())"
   ]
  },
  {
   "cell_type": "code",
   "execution_count": 13,
   "id": "103c3358-077d-4f78-91e7-b5f87b12f8c4",
   "metadata": {},
   "outputs": [
    {
     "name": "stdout",
     "output_type": "stream",
     "text": [
      "5\n"
     ]
    }
   ],
   "source": [
    "def get_odds():\n",
    "  for num in range(10):\n",
    "   if num % 2 != 0:\n",
    "      yield num\n",
    "\n",
    "odd_numbers = get_odds()\n",
    "for _ in range(3):\n",
    "    third_value = next(odd_numbers)\n",
    "\n",
    "print(third_value)"
   ]
  },
  {
   "cell_type": "code",
   "execution_count": null,
   "id": "50fa21bb-1d98-4319-b1a0-62e4b9799fdc",
   "metadata": {},
   "outputs": [],
   "source": []
  }
 ],
 "metadata": {
  "kernelspec": {
   "display_name": "Python 3 (ipykernel)",
   "language": "python",
   "name": "python3"
  },
  "language_info": {
   "codemirror_mode": {
    "name": "ipython",
    "version": 3
   },
   "file_extension": ".py",
   "mimetype": "text/x-python",
   "name": "python",
   "nbconvert_exporter": "python",
   "pygments_lexer": "ipython3",
   "version": "3.12.4"
  }
 },
 "nbformat": 4,
 "nbformat_minor": 5
}

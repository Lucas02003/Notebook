{
 "cells": [
  {
   "cell_type": "code",
   "execution_count": 4,
   "id": "4bf0d325-5cc9-4d9b-8a7c-d84ac8f74eba",
   "metadata": {},
   "outputs": [
    {
     "data": {
      "text/plain": [
       "3600"
      ]
     },
     "execution_count": 4,
     "metadata": {},
     "output_type": "execute_result"
    }
   ],
   "source": [
    "seconds_in_a_minute = 60\n",
    "minutes_in_an_hour = 60\n",
    "seconds_in_an_hour = seconds_in_a_minute * minutes_in_an_hour\n",
    "seconds_in_an_hour"
   ]
  },
  {
   "cell_type": "code",
   "execution_count": 7,
   "id": "7f5e0bd0-015b-4180-98a2-effeb49a281c",
   "metadata": {},
   "outputs": [
    {
     "data": {
      "text/plain": [
       "86400"
      ]
     },
     "execution_count": 7,
     "metadata": {},
     "output_type": "execute_result"
    }
   ],
   "source": [
    "hours_in_a_day = 24\n",
    "seconds_in_an_hour = 3600\n",
    "seconds_in_an_day = hours_in_a_day * seconds_in_an_hour\n",
    "seconds_in_an_day"
   ]
  },
  {
   "cell_type": "code",
   "execution_count": 10,
   "id": "91f4b299-be43-4c2f-8cf5-2f9d02ecbdb2",
   "metadata": {},
   "outputs": [
    {
     "data": {
      "text/plain": [
       "24.0"
      ]
     },
     "execution_count": 10,
     "metadata": {},
     "output_type": "execute_result"
    }
   ],
   "source": [
    "seconds_in_a_day = 86400\n",
    "seconds_in_a_hour = 3600\n",
    "seconds_in_a_day / seconds_in_a_hour"
   ]
  },
  {
   "cell_type": "code",
   "execution_count": 11,
   "id": "7dd46a2d-7ccd-4410-80f1-fe3d08ae9412",
   "metadata": {},
   "outputs": [
    {
     "data": {
      "text/plain": [
       "24"
      ]
     },
     "execution_count": 11,
     "metadata": {},
     "output_type": "execute_result"
    }
   ],
   "source": [
    "seconds_in_a_day = 86400\n",
    "seconds_in_a_hour = 3600\n",
    "seconds_in_a_day // seconds_in_a_hour"
   ]
  },
  {
   "cell_type": "code",
   "execution_count": null,
   "id": "7c3e33f1-1ae2-4bed-b496-165615e54d7a",
   "metadata": {},
   "outputs": [],
   "source": []
  }
 ],
 "metadata": {
  "kernelspec": {
   "display_name": "Python 3 (ipykernel)",
   "language": "python",
   "name": "python3"
  },
  "language_info": {
   "codemirror_mode": {
    "name": "ipython",
    "version": 3
   },
   "file_extension": ".py",
   "mimetype": "text/x-python",
   "name": "python",
   "nbconvert_exporter": "python",
   "pygments_lexer": "ipython3",
   "version": "3.12.4"
  }
 },
 "nbformat": 4,
 "nbformat_minor": 5
}
